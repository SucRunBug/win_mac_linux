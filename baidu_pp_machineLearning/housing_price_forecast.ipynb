{
 "cells": [
  {
   "cell_type": "code",
   "execution_count": 1,
   "id": "05bb5286",
   "metadata": {},
   "outputs": [],
   "source": [
    "import paddle\n",
    "import numpy as np\n",
    "import os\n",
    "import matplotlib.pyplot as plt"
   ]
  },
  {
   "cell_type": "code",
   "execution_count": 2,
   "id": "637bcacd",
   "metadata": {},
   "outputs": [],
   "source": [
    "Batch = 0\n",
    "Batchs = []\n",
    "all_train_accs = []\n",
    "def draw_train_acc(Batchs, train_accs):\n",
    "    title = \"training accs\"\n",
    "    plt.title(title, fontsize=24)\n",
    "    plt.xlabel(\"batch\", fontsize=14)\n",
    "    plt.ylabel(\"acc\", fontsize=14)\n",
    "    plt.plot(Batchs, train_accs, color=\"green\", label='training accs')\n",
    "    plt.legend()\n",
    "    plt.grid()\n",
    "    plt.show()\n",
    "    \n",
    "all_train_loss=[]\n",
    "def draw_train_loss(Batchs, train_loss):\n",
    "    title = \"training loss\"\n",
    "    plt.title(title, fontsize=24)\n",
    "    plt.xlabel(\"batch\", fontsize=14)\n",
    "    plt.ylabel(\"loss\", fontsize=14)\n",
    "    plt.plot(Batchs, train_loss, color='red', label='training loss')\n",
    "    plt.legend()\n",
    "    plt.grid()\n",
    "    plt.show()"
   ]
  },
  {
   "cell_type": "code",
   "execution_count": 3,
   "id": "5814cb38",
   "metadata": {},
   "outputs": [
    {
     "name": "stdout",
     "output_type": "stream",
     "text": [
      "Tensor(shape=[13], dtype=float32, place=Place(cpu), stop_gradient=True,\n",
      "       [-0.04054410,  0.06636363, -0.32356226, -0.06916996, -0.03435197,\n",
      "         0.05563625, -0.03475696,  0.02682186, -0.37171334, -0.21419305,\n",
      "        -0.33569506,  0.10143217, -0.21172912]) Tensor(shape=[1], dtype=float32, place=Place(cpu), stop_gradient=True,\n",
      "       [24.])\n",
      "Tensor(shape=[13], dtype=float32, place=Place(cpu), stop_gradient=True,\n",
      "       [-0.04030818, -0.11363637, -0.14907546, -0.06916996, -0.17632729,\n",
      "         0.02612869,  0.10633469,  0.10658070, -0.32823509, -0.31724647,\n",
      "        -0.06973761,  0.10143217, -0.09693883]) Tensor(shape=[1], dtype=float32, place=Place(cpu), stop_gradient=True,\n",
      "       [21.60000038])\n",
      "Tensor(shape=[13], dtype=float32, place=Place(cpu), stop_gradient=True,\n",
      "       [-0.04030840, -0.11363637, -0.14907546, -0.06916996, -0.17632729,\n",
      "         0.17251688, -0.07698148,  0.10658070, -0.32823509, -0.31724647,\n",
      "        -0.06973761,  0.09116942, -0.23794325]) Tensor(shape=[1], dtype=float32, place=Place(cpu), stop_gradient=True,\n",
      "       [34.70000076])\n",
      "Tensor(shape=[13], dtype=float32, place=Place(cpu), stop_gradient=True,\n",
      "       [-0.04025130, -0.11363637, -0.32832766, -0.06916996, -0.19896103,\n",
      "         0.13668627, -0.23455100,  0.20616332, -0.28475684, -0.35541442,\n",
      "         0.02600706,  0.09570823, -0.26802051]) Tensor(shape=[1], dtype=float32, place=Place(cpu), stop_gradient=True,\n",
      "       [33.40000153])\n",
      "Tensor(shape=[13], dtype=float32, place=Place(cpu), stop_gradient=True,\n",
      "       [-0.03983903, -0.11363637, -0.32832766, -0.06916996, -0.19896103,\n",
      "         0.16523579, -0.14804223,  0.20616332, -0.28475684, -0.35541442,\n",
      "         0.02600706,  0.10143217, -0.20207128]) Tensor(shape=[1], dtype=float32, place=Place(cpu), stop_gradient=True,\n",
      "       [36.20000076])\n",
      "Tensor(shape=[13], dtype=float32, place=Place(cpu), stop_gradient=True,\n",
      "       [-0.04027963, -0.11363637, -0.32832766, -0.06916996, -0.19896103,\n",
      "         0.02785315, -0.10169826,  0.20616332, -0.28475684, -0.35541442,\n",
      "         0.02600706,  0.09442223, -0.20538254]) Tensor(shape=[1], dtype=float32, place=Place(cpu), stop_gradient=True,\n",
      "       [28.70000076])\n",
      "Tensor(shape=[13], dtype=float32, place=Place(cpu), stop_gradient=True,\n",
      "       [-0.03962278,  0.01136364, -0.11974995, -0.06916996, -0.06315856,\n",
      "        -0.05223882, -0.02033884,  0.16054136, -0.19780031, -0.18556708,\n",
      "        -0.34633335,  0.09815414, -0.00615517]) Tensor(shape=[1], dtype=float32, place=Place(cpu), stop_gradient=True,\n",
      "       [22.89999962])\n",
      "Tensor(shape=[13], dtype=float32, place=Place(cpu), stop_gradient=True,\n",
      "       [-0.03899043,  0.01136364, -0.11974995, -0.06916996, -0.06315856,\n",
      "        -0.02158160,  0.28347167,  0.19600590, -0.19780031, -0.18556708,\n",
      "        -0.34633335,  0.10143217,  0.17927530]) Tensor(shape=[1], dtype=float32, place=Place(cpu), stop_gradient=True,\n",
      "       [27.10000038])\n",
      "Tensor(shape=[13], dtype=float32, place=Place(cpu), stop_gradient=True,\n",
      "       [-0.03824085,  0.01136364, -0.11974995, -0.06916996, -0.06315856,\n",
      "        -0.12524131,  0.32363644,  0.20797291, -0.19780031, -0.18556708,\n",
      "        -0.34633335,  0.07553575,  0.47673666]) Tensor(shape=[1], dtype=float32, place=Place(cpu), stop_gradient=True,\n",
      "       [16.50000000])\n",
      "Tensor(shape=[13], dtype=float32, place=Place(cpu), stop_gradient=True,\n",
      "       [-0.03870393,  0.01136364, -0.11974995, -0.06916996, -0.06315856,\n",
      "        -0.05377168,  0.17842533,  0.25434962, -0.19780031, -0.18556708,\n",
      "        -0.34633335,  0.07573748,  0.12270797]) Tensor(shape=[1], dtype=float32, place=Place(cpu), stop_gradient=True,\n",
      "       [18.89999962])\n"
     ]
    }
   ],
   "source": [
    "uci_housing = paddle.text.datasets.UCIHousing(mode='train')\n",
    "for i in range(10):\n",
    "    feature, target = uci_housing[i]\n",
    "    feature = paddle.to_tensor(feature)\n",
    "    target = paddle.to_tensor(target)\n",
    "    print(feature, target)"
   ]
  },
  {
   "cell_type": "code",
   "execution_count": 4,
   "id": "883b1db9",
   "metadata": {},
   "outputs": [],
   "source": [
    "train_dataset=paddle.text.datasets.UCIHousing(mode='train')\n",
    "eval_dataset=paddle.text.datasets.UCIHousing(mode='test')\n",
    "train_loader=paddle.io.DataLoader(train_dataset, batch_size=32, shuffle=True)\n",
    "eval_loader=paddle.io.DataLoader(eval_dataset, batch_size=8, shuffle=False)"
   ]
  },
  {
   "cell_type": "markdown",
   "id": "ad72f899",
   "metadata": {},
   "source": [
    "## 网络搭建"
   ]
  },
  {
   "cell_type": "code",
   "execution_count": 5,
   "id": "847e8466",
   "metadata": {},
   "outputs": [],
   "source": [
    "class MyDNN(paddle.nn.Layer):\n",
    "    def __init__(self):\n",
    "        super(MyDNN, self).__init__()\n",
    "        self.linear = paddle.nn.Linear(13, 1, None)\n",
    "        \n",
    "    def forward(self, inputs):\n",
    "        x = self.linear(inputs)\n",
    "        return x"
   ]
  },
  {
   "cell_type": "code",
   "execution_count": 6,
   "id": "837d8229",
   "metadata": {},
   "outputs": [
    {
     "data": {
      "image/png": "[encoded data removed]",
      "text/plain": [
       "<Figure size 640x480 with 1 Axes>"
      ]
     },
     "metadata": {},
     "output_type": "display_data"
    }
   ],
   "source": [
    "model = MyDNN()\n",
    "model.train()\n",
    "mse_loss = paddle.nn.MSELoss()\n",
    "opt = paddle.optimizer.SGD(learning_rate=0.00005, parameters=model.parameters())\n",
    "epochs_num = 200\n",
    "\n",
    "for epochs in range(epochs_num):\n",
    "    for batch_id, data in enumerate(train_loader):\n",
    "        feature = data[0]\n",
    "        label = data[1]\n",
    "        predict = model(feature)\n",
    "        loss = mse_loss(predict, label)\n",
    "        if batch_id != 0 and batch_id % 20 == 0:\n",
    "            Batch = Batch + 20\n",
    "            Batchs.append(Batch)\n",
    "            all_train_accs.append(loss.numpy()[0])\n",
    "            print(\"epoch:{},step:{},train_loss:{}\".format(epochs, batch_id, loss.numpy()))\n",
    "        loss.backward()#反向传播\n",
    "        opt.step()#使用优化器\n",
    "        opt.clear_grad()#优化器清空梯度\n",
    "paddle.save(model.state_dict(), \"mydnn\")\n",
    "draw_train_loss(Batchs, all_train_loss)\n",
    "        "
   ]
  },
  {
   "cell_type": "code",
   "execution_count": null,
   "id": "776df77c",
   "metadata": {},
   "outputs": [],
   "source": []
  }
 ],
 "metadata": {
  "kernelspec": {
   "display_name": "Python 3 (ipykernel)",
   "language": "python",
   "name": "python3"
  },
  "language_info": {
   "codemirror_mode": {
    "name": "ipython",
    "version": 3
   },
   "file_extension": ".py",
   "mimetype": "text/x-python",
   "name": "python",
   "nbconvert_exporter": "python",
   "pygments_lexer": "ipython3",
   "version": "3.10.10"
  }
 },
 "nbformat": 4,
 "nbformat_minor": 5
}
